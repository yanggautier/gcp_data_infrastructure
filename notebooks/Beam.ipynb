{
 "cells": [
  {
   "cell_type": "code",
   "execution_count": 17,
   "id": "e084d6d6",
   "metadata": {
    "scrolled": true
   },
   "outputs": [],
   "source": [
    "import apache_beam as beam\n",
    "from apache_beam.io import ReadFromCsv\n",
    "from datetime import datetime\n",
    "import pandas as pd\n",
    "import os\n",
    "from apache_beam.options.pipeline_options import PipelineOptions"
   ]
  },
  {
   "cell_type": "code",
   "execution_count": 47,
   "id": "0cf09b36",
   "metadata": {},
   "outputs": [],
   "source": []
  },
  {
   "cell_type": "code",
   "execution_count": 44,
   "id": "9424db33",
   "metadata": {},
   "outputs": [],
   "source": []
  },
  {
   "cell_type": "code",
   "execution_count": null,
   "id": "7a156014",
   "metadata": {},
   "outputs": [],
   "source": [
    "# Fichiers d'entrée et sortie\n",
    "INPUT_DIR = \"../raw_data\"\n",
    "OUTPUT_DIR = \"../final_data\"\n",
    "\n",
    "# Format attendu pour la conversion en datetime\n",
    "DATE_COLUMNS = {\n",
    "    \"olist_order_items_dataset.csv\": {\"shipping_limit_date\": \"%Y-%m-%d %H:%M:%S\"},\n",
    "    \"olist_order_reviews_dataset.csv\": {\"review_creation_date\": \"%Y-%m-%d %H:%M:%S\", \n",
    "                                        \"review_answer_timestamp\":\"%Y-%m-%d %H:%M:%S\"},\n",
    "    \"olist_orders_dataset.csv\": {\"order_purchase_timestamp\":\"%Y-%m-%d %H:%M:%S\", \n",
    "                                 \"order_approved_at\":\"%Y-%m-%d %H:%M:%S\", \n",
    "                                 \"order_delivered_carrier_date\":\"%Y-%m-%d %H:%M:%S\", \n",
    "                                 \"order_delivered_customer_date\":\"%Y-%m-%d %H:%M:%S\", \n",
    "                                 \"order_estimated_delivery_date\":\"%Y-%m-%d %H:%M:%S\"},\n",
    "}\n",
    "\n",
    "DROP_DUPLICATE = {\n",
    "    \"olist_geolocation_dataset.csv\": \"geolocation_zip_code_prefix\",\n",
    "    \"olist_order_reviews_dataset.csv\": \"review_id\"\n",
    "}\n",
    "\n",
    "\n",
    "\n",
    "# Fonction de transformation\n",
    "def transform_csv(file_path):\n",
    "    filename = os.path.basename(file_path)\n",
    "\n",
    "    # Charger le fichier CSV avec Pandas\n",
    "    df = pd.read_csv(file_path)\n",
    "\n",
    "    # Vérifier si ce fichier a des colonnes à convertir\n",
    "    if filename in DATE_COLUMNS:\n",
    "        for col, fmt in DATE_COLUMNS[filename].items():\n",
    "            if col in df.columns:\n",
    "                df[col] = pd.to_datetime(df[col], format=fmt)\n",
    "    \n",
    "    if filename in DROP_DUPLICATE:\n",
    "        if DROP_DUPLICATE[filename] is not None:\n",
    "            df.drop_duplicates(DROP_DUPLICATE[filename], inplace=True)\n",
    "    # Sauvegarder le fichier transformé\n",
    "    output_path = os.path.join(OUTPUT_DIR, filename)\n",
    "    df.to_csv(output_path, index=False)\n",
    "    return output_path\n",
    "\n",
    "\n",
    "# Pipeline Apache Beam\n",
    "with beam.Pipeline() as pipeline:\n",
    "    (\n",
    "        pipeline\n",
    "        | \"Lister fichiers CSV\" >> beam.Create([os.path.join(INPUT_DIR, f) for f in os.listdir(INPUT_DIR) if f.endswith(\".csv\")])\n",
    "        | \"Transformer et Sauvegarder\" >> beam.Map(transform_csv)\n",
    "    )\n",
    "\n",
    "print(\"Traitement terminé 🎉\")"
   ]
  },
  {
   "cell_type": "code",
   "execution_count": 49,
   "id": "c159a42d",
   "metadata": {},
   "outputs": [
    {
     "name": "stdout",
     "output_type": "stream",
     "text": [
      "Traitement terminé 🎉\n"
     ]
    }
   ],
   "source": []
  },
  {
   "cell_type": "code",
   "execution_count": null,
   "id": "a2801ee6",
   "metadata": {},
   "outputs": [],
   "source": []
  }
 ],
 "metadata": {
  "kernelspec": {
   "display_name": "Python 3 (ipykernel)",
   "language": "python",
   "name": "python3"
  },
  "language_info": {
   "codemirror_mode": {
    "name": "ipython",
    "version": 3
   },
   "file_extension": ".py",
   "mimetype": "text/x-python",
   "name": "python",
   "nbconvert_exporter": "python",
   "pygments_lexer": "ipython3",
   "version": "3.11.7"
  }
 },
 "nbformat": 4,
 "nbformat_minor": 5
}
